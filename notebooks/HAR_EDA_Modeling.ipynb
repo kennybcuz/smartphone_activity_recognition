{
 "cells": [
  {
   "cell_type": "markdown",
   "id": "noticed-timber",
   "metadata": {},
   "source": [
    "# Project 2 Part 2 - Exploratory Data Analysis & Cleaning"
   ]
  },
  {
   "cell_type": "markdown",
   "id": "powerful-integrity",
   "metadata": {},
   "source": [
    "## Project Information"
   ]
  },
  {
   "cell_type": "markdown",
   "id": "architectural-insertion",
   "metadata": {},
   "source": [
    "Experiments were carried out with a group of 30 volunteers\n",
    " * age range: 19 - 48 years\n",
    " * Samsung Galaxy SII worn on waist\n",
    "  \n",
    "**Basic Experiments**\n",
    " * Static Postures\n",
    "     * standing\n",
    "     * sitting\n",
    "     * lying\n",
    " * Dynamic Activities\n",
    "     * walking\n",
    "     * walking downstairs\n",
    "     * walking upstairs\n",
    " * Postural Transitions\n",
    "     * stand to sit\n",
    "     * sit to stand\n",
    "     * sit to lie\n",
    "     * lie to sit\n",
    "     * stand to lie\n",
    "     * lie to stand\n",
    "     \n",
    "**Data**\n",
    " * tri-axial measurements of \n",
    "     * Acceleration\n",
    "     * Angular Velocity\n",
    "  \n",
    " * X = a 561-feature vector with time and frequency domain variables.\n",
    " * y = Its associated activity label.\n",
    " * An identifier of the subject who carried out the experiment. \n",
    " * Partitioned Randomly\n",
    "     * 70% training\n",
    "     * 30% testing\n",
    "  \n",
    " * Window is 2.56 seconds\n",
    " * 128 sensor readings per window\n",
    " * Features are normalized and bounded within [-1,1].\n",
    " * Each feature vector is a row on the 'X' and 'y' files.\n",
    " * The units used for the accelerations (total and body) are 'g's.\n",
    " * The gyroscope units are rad/sec\n",
    " \n"
   ]
  },
  {
   "cell_type": "markdown",
   "id": "unlikely-renewal",
   "metadata": {},
   "source": [
    "## Target Vector Labels"
   ]
  },
  {
   "cell_type": "code",
   "execution_count": 1,
   "id": "finnish-massachusetts",
   "metadata": {},
   "outputs": [],
   "source": [
    "label_dict ={ \n",
    " 1 :'WALKING',             \n",
    " 2 :'WALKING_UPSTAIRS',    \n",
    " 3 :'WALKING_DOWNSTAIRS',  \n",
    " 4 :'SITTING',             \n",
    " 5 :'STANDING',            \n",
    " 6 :'LAYING',              \n",
    " 7 :'STAND_TO_SIT',        \n",
    " 8 :'SIT_TO_STAND',        \n",
    " 9 :'SIT_TO_LIE',          \n",
    " 10 :'LIE_TO_SIT',          \n",
    " 11 :'STAND_TO_LIE',        \n",
    " 12 :'LIE_TO_STAND'} "
   ]
  },
  {
   "cell_type": "markdown",
   "id": "twenty-apparel",
   "metadata": {},
   "source": [
    "## Import Statements"
   ]
  },
  {
   "cell_type": "code",
   "execution_count": 2,
   "id": "standing-willow",
   "metadata": {},
   "outputs": [],
   "source": [
    "import pandas as pd\n",
    "import numpy as np\n",
    "import matplotlib.pyplot as plt\n",
    "import seaborn as sb\n",
    "\n",
    "from sklearn.model_selection import train_test_split, GridSearchCV\n",
    "from sklearn.decomposition import PCA\n",
    "from sklearn.pipeline import make_pipeline\n",
    "\n",
    "from sklearn.ensemble import GradientBoostingClassifier\n",
    "from sklearn.ensemble import RandomForestClassifier\n",
    "from sklearn.neighbors import KNeighborsClassifier\n",
    "from xgboost import XGBClassifier\n",
    "\n",
    "from sklearn.metrics import accuracy_score"
   ]
  },
  {
   "cell_type": "markdown",
   "id": "described-stable",
   "metadata": {},
   "source": [
    "## Load Data\n",
    "Data is already separated into a training and testing dataset.  I will recombine the data such that dimensionality reduction techniques can be applied."
   ]
  },
  {
   "cell_type": "markdown",
   "id": "private-longer",
   "metadata": {},
   "source": [
    "### Load text files"
   ]
  },
  {
   "cell_type": "code",
   "execution_count": 3,
   "id": "technological-milwaukee",
   "metadata": {},
   "outputs": [],
   "source": [
    "# training data\n",
    "train_data = r\"D:\\CodingDojo\\smartphone_activity_recognition\\data\\HAPT Data Set\\Train\\X_train.txt\"\n",
    "train_labels = r\"D:\\CodingDojo\\smartphone_activity_recognition\\data\\HAPT Data Set\\Train\\y_train.txt\"\n",
    "\n",
    "# testing data\n",
    "test_data = r\"D:\\CodingDojo\\smartphone_activity_recognition\\data\\HAPT Data Set\\Test\\X_test.txt\"\n",
    "test_labels = r\"D:\\CodingDojo\\smartphone_activity_recognition\\data\\HAPT Data Set\\Test\\y_test.txt\"\n",
    "\n",
    "# column names (feature names)\n",
    "col_names = r\"D:\\CodingDojo\\smartphone_activity_recognition\\data\\HAPT Data Set\\features.txt\""
   ]
  },
  {
   "cell_type": "markdown",
   "id": "unnecessary-dividend",
   "metadata": {},
   "source": [
    "### Fix column header names\n",
    "need to rename 2nd and 3rd measurements for 14 columns"
   ]
  },
  {
   "cell_type": "code",
   "execution_count": 4,
   "id": "documentary-transition",
   "metadata": {},
   "outputs": [
    {
     "data": {
      "text/plain": [
       "{'fBodyAcc-Kurtosis-1',\n",
       " 'fBodyAcc-Skewness-1',\n",
       " 'fBodyAcc-ropy-1',\n",
       " 'fBodyAccJerk-Kurtosis-1',\n",
       " 'fBodyAccJerk-Skewness-1',\n",
       " 'fBodyAccJerk-ropy-1',\n",
       " 'fBodyGyro-Kurtosis-1',\n",
       " 'fBodyGyro-Skewness-1',\n",
       " 'fBodyGyro-ropy-1',\n",
       " 'tBodyAcc-ropy-1',\n",
       " 'tBodyAccJerk-ropy-1',\n",
       " 'tBodyGyro-ropy-1',\n",
       " 'tBodyGyroJerk-ropy-1',\n",
       " 'tGravityAcc-ropy-1'}"
      ]
     },
     "execution_count": 4,
     "metadata": {},
     "output_type": "execute_result"
    }
   ],
   "source": [
    "# create columns dataframe\n",
    "columns = pd.read_csv(col_names, sep='\\n', header=None, names=['Features'])\n",
    "\n",
    "# strip whitespace from each column name\n",
    "columns['Features'] = columns['Features'].str.strip()\n",
    "\n",
    "# set column names to list\n",
    "col_names = list(columns['Features'])\n",
    "\n",
    "# empty set to capture duplicates\n",
    "duplicates = set()\n",
    "\n",
    "# for loop to capture duplicate feature names\n",
    "for i in col_names:\n",
    "    if col_names.count(i) > 1:\n",
    "        duplicates.add(i)\n",
    "duplicates"
   ]
  },
  {
   "cell_type": "code",
   "execution_count": 6,
   "id": "wicked-suffering",
   "metadata": {},
   "outputs": [],
   "source": [
    "# rename duplicated columns\n",
    "\n",
    "# fBodyAcc-Kurtosis-1\n",
    "col_names[299] = 'fBodyAcc-Kurtosis-2'\n",
    "col_names[301] = 'fBodyAcc-Kurtosis-3'\n",
    "\n",
    "# fBodyAcc-Skewness-1\n",
    "col_names[298] = 'fBodyAcc-Skewness-2'\n",
    "col_names[300] = 'fBodyAcc-Skewness-3'\n",
    "\n",
    "# fBodyAcc-ropy-1\n",
    "col_names[288] = 'fBodyAcc-ropy-2'\n",
    "col_names[289] = 'fBodyAcc-ropy-3'\n",
    "\n",
    "# fBodyAccJerk-Kurtosis-1\n",
    "col_names[378] = 'fBodyAccJerk-Kurtosis-2'\n",
    "col_names[380] = 'fBodyAccJerk-Kurtosis-3'\n",
    "\n",
    "# 'fBodyAccJerk-Skewness-1'\n",
    "col_names[377] = 'fBodyAccJerk-Skewness-2'\n",
    "col_names[379] = 'fBodyAccJerk-Skewness-3'\n",
    "\n",
    "# 'fBodyAccJerk-ropy-1'\n",
    "col_names[367] = 'fBodyAccJerk-ropy-2'\n",
    "col_names[368] = 'fBodyAccJerk-ropy-3'\n",
    "\n",
    "# 'fBodyGyro-Kurtosis-1'\n",
    "col_names[457] = 'fBodyGyro-Kurtosis-2'\n",
    "col_names[459] = 'fBodyGyro-Kurtosis-3'\n",
    "\n",
    "# 'fBodyGyro-Skewness-1'\n",
    "col_names[456] = 'fBodyGyro-Skewness-2'\n",
    "col_names[458] = 'fBodyGyro-Skewness-3'\n",
    "\n",
    "# 'fBodyGyro-ropy-1'\n",
    "col_names[446] = 'fBodyGyro-ropy-2'\n",
    "col_names[447] = 'fBodyGyro-ropy-3'\n",
    "\n",
    "# 'tBodyAcc-ropy-1'\n",
    "col_names[23] = 'tBodyAcc-ropy-2'\n",
    "col_names[24] = 'tBodyAcc-ropy-3'\n",
    "\n",
    "# 'tBodyAccJerk-ropy-1'\n",
    "col_names[103] = 'tBodyAccJerk-ropy-2'\n",
    "col_names[104] = 'tBodyAccJerk-ropy-3'\n",
    "\n",
    "# 'tBodyGyro-ropy-1'\n",
    "col_names[143] = 'tBodyGyro-ropy-2'\n",
    "col_names[144] = 'tBodyGyro-ropy-3'\n",
    "\n",
    "# 'tBodyGyroJerk-ropy-1'\n",
    "col_names[183] = 'tBodyGyroJerk-ropy-2'\n",
    "col_names[184] = 'tBodyGyroJerk-ropy-3'\n",
    "\n",
    "# 'tGravityAcc-ropy-1'\n",
    "col_names[63] = 'tGravityAcc-ropy-2'\n",
    "col_names[64] = 'tGravityAcc-ropy-3'\n"
   ]
  },
  {
   "cell_type": "markdown",
   "id": "overall-nylon",
   "metadata": {},
   "source": [
    "### Construct Dataframes for training and testing data"
   ]
  },
  {
   "cell_type": "code",
   "execution_count": 7,
   "id": "about-centre",
   "metadata": {},
   "outputs": [],
   "source": [
    "# construct dataframes\n",
    "X_train = pd.read_csv(train_data, sep=' ', header=None, names=col_names)\n",
    "y_train = pd.read_csv(train_labels, sep=' ', header=None, names=['Labels'])\n",
    "\n",
    "X_test = pd.read_csv(test_data, sep=' ', header=None, names=col_names)\n",
    "y_test = pd.read_csv(test_labels, sep=' ', header=None, names=['Labels'])"
   ]
  },
  {
   "cell_type": "code",
   "execution_count": 8,
   "id": "japanese-viewer",
   "metadata": {},
   "outputs": [
    {
     "name": "stdout",
     "output_type": "stream",
     "text": [
      "(7767, 561) (3162, 561)\n"
     ]
    }
   ],
   "source": [
    "# data shapes to verify final dataframe shape\n",
    "print(X_train.shape, X_test.shape)"
   ]
  },
  {
   "cell_type": "code",
   "execution_count": 9,
   "id": "divided-manitoba",
   "metadata": {},
   "outputs": [],
   "source": [
    "# flatten target vectors\n",
    "y_train = np.ravel(y_train)\n",
    "y_test = np.ravel(y_test)"
   ]
  },
  {
   "cell_type": "code",
   "execution_count": 10,
   "id": "banner-proportion",
   "metadata": {},
   "outputs": [
    {
     "name": "stdout",
     "output_type": "stream",
     "text": [
      "(7767,) (3162,)\n"
     ]
    }
   ],
   "source": [
    "# check target vector shape\n",
    "print(y_train.shape, y_test.shape)"
   ]
  },
  {
   "cell_type": "markdown",
   "id": "liable-labor",
   "metadata": {},
   "source": [
    "## Exploratory Data Analysis\n",
    "Check the dataset for \n",
    "* balance of labeled features (human activities)"
   ]
  },
  {
   "cell_type": "markdown",
   "id": "magnetic-founder",
   "metadata": {},
   "source": [
    "### Activity Balance in Dataset"
   ]
  },
  {
   "cell_type": "code",
   "execution_count": 11,
   "id": "impressed-oliver",
   "metadata": {},
   "outputs": [],
   "source": [
    "# convert to dataframe\n",
    "y = pd.DataFrame(data= y_train, columns=['Labels_Int'])\n",
    "\n",
    "# add label names\n",
    "y['Labels']= y['Labels_Int'].map(label_dict)\n",
    "\n",
    "# group categories and get count\n",
    "cat_counts = y.groupby('Labels').size()\n",
    "\n",
    "# sort values for plotting\n",
    "cat_counts.sort_values(ascending=False, inplace=True)"
   ]
  },
  {
   "cell_type": "code",
   "execution_count": 33,
   "id": "instant-commissioner",
   "metadata": {},
   "outputs": [
    {
     "data": {
      "image/png": "[encoded data removed]",
      "text/plain": [
       "<Figure size 720x576 with 1 Axes>"
      ]
     },
     "metadata": {
      "needs_background": "light"
     },
     "output_type": "display_data"
    }
   ],
   "source": [
    "# make bar plot of label counts\n",
    "plt.figure(figsize=(10,8))\n",
    "plt.bar(x=cat_counts.index, height=cat_counts.values)\n",
    "plt.xticks(rotation=65)\n",
    "plt.xlabel('Human Activity', fontsize=14)\n",
    "plt.ylabel('Activity Count', fontsize=14)\n",
    "plt.title('Training Class Imbalance', fontsize=18);\n"
   ]
  },
  {
   "cell_type": "markdown",
   "id": "stuck-evaluation",
   "metadata": {},
   "source": [
    "**Discussion:**\n",
    "The distribution of activity classes is not even.  However, the activities representing the transition to and from sitting are balanced among themselves, and the same is true for the performed activities (standing, laying, sitting, walking, upstairs, downstairs).  This dataset may be a candidate for a over/under sampling strategy.  For now, I will model without addressing the data imbalance."
   ]
  },
  {
   "cell_type": "code",
   "execution_count": 34,
   "id": "specialized-melbourne",
   "metadata": {},
   "outputs": [],
   "source": [
    "# convert to dataframe\n",
    "y = pd.DataFrame(data= y_test, columns=['Labels_Int'])\n",
    "\n",
    "# add label names\n",
    "y['Labels']= y['Labels_Int'].map(label_dict)\n",
    "\n",
    "# group categories and get count\n",
    "cat_counts = y.groupby('Labels').size()\n",
    "\n",
    "# sort values for plotting\n",
    "cat_counts.sort_values(ascending=False, inplace=True)"
   ]
  },
  {
   "cell_type": "code",
   "execution_count": 35,
   "id": "minute-variety",
   "metadata": {},
   "outputs": [
    {
     "data": {
      "image/png": "[encoded data removed]",
      "text/plain": [
       "<Figure size 720x576 with 1 Axes>"
      ]
     },
     "metadata": {
      "needs_background": "light"
     },
     "output_type": "display_data"
    }
   ],
   "source": [
    "# make bar plot of label counts\n",
    "plt.figure(figsize=(10,8))\n",
    "plt.bar(x=cat_counts.index, height=cat_counts.values)\n",
    "plt.xticks(rotation=65)\n",
    "plt.xlabel('Human Activity', fontsize=14)\n",
    "plt.ylabel('Activity Count', fontsize=14)\n",
    "plt.title('Testing Class Imbalance', fontsize=18);"
   ]
  },
  {
   "cell_type": "markdown",
   "id": "improved-boring",
   "metadata": {},
   "source": [
    "## Primary Component Analysis"
   ]
  },
  {
   "cell_type": "code",
   "execution_count": 39,
   "id": "covered-elizabeth",
   "metadata": {},
   "outputs": [
    {
     "data": {
      "text/plain": [
       "PCA()"
      ]
     },
     "execution_count": 39,
     "metadata": {},
     "output_type": "execute_result"
    }
   ],
   "source": [
    "# fit PCA\n",
    "pca = PCA()\n",
    "pca.fit(X_train)"
   ]
  },
  {
   "cell_type": "code",
   "execution_count": 50,
   "id": "extraordinary-purchase",
   "metadata": {},
   "outputs": [
    {
     "data": {
      "image/png": "[encoded data removed]",
      "text/plain": [
       "<Figure size 1080x720 with 1 Axes>"
      ]
     },
     "metadata": {
      "needs_background": "light"
     },
     "output_type": "display_data"
    }
   ],
   "source": [
    "# Plot the explained variance ratios of the principal components\n",
    "plt.figure(figsize=(15,10))\n",
    "plt.plot(range(1, 562), pca.explained_variance_ratio_[:562], marker = '.')\n",
    "plt.plot(range(1, 562), pca.explained_variance_ratio_.cumsum()[:562], marker= '.')\n",
    "plt.xticks(ticks = range(1, 562, 19))\n",
    "plt.yticks(ticks = np.arange(0,1.1,0.1))\n",
    "plt.xlabel('Principal Component', fontsize=14)\n",
    "plt.ylabel('Proportion of Explained Variance', fontsize=14)\n",
    "plt.title('Primary Component Analysis - All Features', fontsize=18);"
   ]
  },
  {
   "cell_type": "code",
   "execution_count": 52,
   "id": "going-first",
   "metadata": {},
   "outputs": [
    {
     "data": {
      "image/png": "[encoded data removed]",
      "text/plain": [
       "<Figure size 1440x1080 with 1 Axes>"
      ]
     },
     "metadata": {
      "needs_background": "light"
     },
     "output_type": "display_data"
    }
   ],
   "source": [
    "# Plot the explained variance ratios of the principal components\n",
    "plt.figure(figsize=(20,15))\n",
    "plt.plot(range(1, 151), pca.explained_variance_ratio_[:150], marker = '.', label='PC Variance')\n",
    "plt.plot(range(1, 151), pca.explained_variance_ratio_.cumsum()[:150], marker= '.', label='Cumulative Variance')\n",
    "plt.xticks(ticks = range(1, 151, 10))\n",
    "plt.yticks(ticks = np.arange(0,1.04,0.05))\n",
    "plt.xlabel('Principal Component', fontsize=14)\n",
    "plt.ylabel('Proportion of Explained Variance', fontsize=14)\n",
    "plt.title('Primary Component Analysis - 95% Variance', fontsize=18)\n",
    "plt.legend();"
   ]
  },
  {
   "cell_type": "code",
   "execution_count": 44,
   "id": "married-charlotte",
   "metadata": {
    "scrolled": true
   },
   "outputs": [
    {
     "data": {
      "text/plain": [
       "array([0.58635593, 0.65061206, 0.69550222, 0.71667127, 0.7330351 ,\n",
       "       0.74667014, 0.75918678, 0.77077569, 0.78076075, 0.7898681 ,\n",
       "       0.79795839, 0.80536231, 0.81243315, 0.81830961, 0.82365931,\n",
       "       0.82878268, 0.83365408, 0.83842075, 0.84285204, 0.84713231,\n",
       "       0.85131047, 0.85540207, 0.85938611, 0.86311702, 0.86663226,\n",
       "       0.8699691 , 0.8730574 , 0.87604301, 0.87896187, 0.88184787,\n",
       "       0.88466055, 0.88735948, 0.88996351, 0.89249894, 0.89499601,\n",
       "       0.89744152, 0.89983051, 0.90208537, 0.90431538, 0.90649674,\n",
       "       0.90857277, 0.91057344, 0.91250437, 0.91441959, 0.91626562,\n",
       "       0.91805348, 0.91982082, 0.92149452, 0.9231299 , 0.92472472,\n",
       "       0.92626142, 0.9277922 , 0.92928741, 0.93076284, 0.93217618,\n",
       "       0.93351329, 0.9348429 , 0.93610714, 0.93734143, 0.93855339,\n",
       "       0.93975086, 0.94090135, 0.94202863, 0.9431466 , 0.94423646,\n",
       "       0.94529978, 0.94632387, 0.94734607, 0.94832573, 0.94928166,\n",
       "       0.9502346 , 0.95114866, 0.95203604, 0.95289685, 0.95374102,\n",
       "       0.95457413, 0.95540203, 0.95622651, 0.95701836, 0.95778073,\n",
       "       0.95853862, 0.95928711, 0.96002643, 0.96074959, 0.96146658,\n",
       "       0.9621699 , 0.96285584, 0.96353768, 0.96419878, 0.96484546,\n",
       "       0.96547736, 0.96610086, 0.96671437, 0.9673218 , 0.96792387,\n",
       "       0.96851559, 0.969085  , 0.96965086, 0.97020485, 0.9707493 ,\n",
       "       0.97129095, 0.97182304, 0.97234033, 0.97285024, 0.97334927,\n",
       "       0.97383581, 0.97431686, 0.97479216, 0.97525644, 0.97571204,\n",
       "       0.97616308, 0.97660009, 0.97703256, 0.97745565, 0.97786644,\n",
       "       0.97827313, 0.97867207, 0.97905765, 0.97943736, 0.97980691,\n",
       "       0.98016495, 0.98051663, 0.98086048, 0.98120053, 0.98153622,\n",
       "       0.98186873, 0.98219483, 0.98250893, 0.98281782, 0.98312329,\n",
       "       0.98342317, 0.98371288, 0.98399966, 0.98427445, 0.98454921,\n",
       "       0.98481883, 0.98508089, 0.98533952, 0.98559501, 0.98584858,\n",
       "       0.98609559, 0.98633898, 0.98657854, 0.98681362, 0.98704667,\n",
       "       0.98727487, 0.98750093, 0.98772366, 0.98794551, 0.98815754,\n",
       "       0.98836869, 0.98857545, 0.98877695, 0.98897795, 0.98917102,\n",
       "       0.98936255, 0.98954835, 0.98973353, 0.98990994, 0.99008102,\n",
       "       0.9902467 , 0.99041198, 0.99057307, 0.99073165, 0.99088775,\n",
       "       0.99104078, 0.99119254, 0.99134165, 0.9914892 , 0.99163309,\n",
       "       0.99177377, 0.99191098, 0.99204765, 0.99217881, 0.99230717,\n",
       "       0.99243321, 0.99255673, 0.99267931, 0.99280013, 0.99291923,\n",
       "       0.99303643, 0.99315136, 0.99326437, 0.99337665, 0.99348568,\n",
       "       0.99359315, 0.99369913, 0.99380367, 0.9939061 , 0.99400706,\n",
       "       0.99410556, 0.99420205, 0.99429698, 0.9943901 , 0.99448182,\n",
       "       0.99457278, 0.99466356, 0.99475327, 0.99484071, 0.99492779,\n",
       "       0.99501329, 0.99509665, 0.99517892, 0.99526011, 0.99534022,\n",
       "       0.99541835, 0.99549618, 0.99557326, 0.9956493 , 0.99572356,\n",
       "       0.99579713, 0.99587015, 0.99594215, 0.99601327, 0.99608103,\n",
       "       0.99614872, 0.99621366, 0.99627789, 0.9963418 , 0.99640484,\n",
       "       0.99646658, 0.996527  , 0.99658669, 0.99664537, 0.99670373,\n",
       "       0.99675997, 0.99681503, 0.99686925, 0.99692221, 0.99697445,\n",
       "       0.99702585, 0.99707695, 0.99712757, 0.9971767 , 0.9972245 ,\n",
       "       0.99727177, 0.99731864, 0.99736523, 0.99741144, 0.99745687,\n",
       "       0.99750077, 0.99754379, 0.99758666, 0.99762884, 0.99767056,\n",
       "       0.99771195, 0.99775258, 0.99779189, 0.99783058, 0.99786906,\n",
       "       0.99790713, 0.99794442, 0.99798106, 0.99801754, 0.99805321,\n",
       "       0.99808822, 0.99812268, 0.99815692, 0.99819038, 0.99822336,\n",
       "       0.99825593, 0.99828844, 0.99832051, 0.99835225, 0.99838323,\n",
       "       0.99841367, 0.99844389, 0.99847353, 0.99850282, 0.99853139,\n",
       "       0.99855944, 0.99858668, 0.99861366, 0.99864007, 0.99866581,\n",
       "       0.9986912 , 0.99871646, 0.99874136, 0.99876582, 0.99878989,\n",
       "       0.99881295, 0.99883579, 0.99885853, 0.9988811 , 0.99890344,\n",
       "       0.99892555, 0.99894742, 0.99896869, 0.9989897 , 0.99901033,\n",
       "       0.99903077, 0.99905096, 0.99907068, 0.99909032, 0.99910972,\n",
       "       0.99912863, 0.99914722, 0.99916545, 0.99918352, 0.99920111,\n",
       "       0.9992183 , 0.99923527, 0.99925209, 0.99926882, 0.99928535,\n",
       "       0.99930169, 0.9993179 , 0.99933383, 0.99934934, 0.99936473,\n",
       "       0.99937988, 0.9993949 , 0.99940957, 0.99942422, 0.99943842,\n",
       "       0.99945227, 0.99946591, 0.99947945, 0.99949241, 0.99950526,\n",
       "       0.99951779, 0.99953016, 0.99954204, 0.99955374, 0.99956532,\n",
       "       0.99957663, 0.99958782, 0.99959887, 0.99960949, 0.99961989,\n",
       "       0.9996301 , 0.99964019, 0.9996502 , 0.99965994, 0.99966949,\n",
       "       0.99967891, 0.99968814, 0.99969699, 0.99970558, 0.99971405,\n",
       "       0.99972219, 0.99973022, 0.999738  , 0.9997456 , 0.99975314,\n",
       "       0.99976059, 0.99976794, 0.99977514, 0.99978206, 0.99978883,\n",
       "       0.99979544, 0.99980194, 0.99980827, 0.99981441, 0.99982044,\n",
       "       0.99982622, 0.9998319 , 0.99983751, 0.99984286, 0.99984804,\n",
       "       0.99985309, 0.99985809, 0.99986273, 0.99986729, 0.99987157,\n",
       "       0.99987571, 0.99987983, 0.99988386, 0.9998877 , 0.99989143,\n",
       "       0.99989496, 0.99989839, 0.99990177, 0.99990507, 0.99990823,\n",
       "       0.99991136, 0.99991444, 0.99991747, 0.99992043, 0.99992334,\n",
       "       0.9999261 , 0.99992883, 0.99993147, 0.99993405, 0.99993658,\n",
       "       0.99993898, 0.99994135, 0.9999437 , 0.9999459 , 0.99994806,\n",
       "       0.99995015, 0.99995218, 0.99995412, 0.99995597, 0.99995772,\n",
       "       0.99995946, 0.99996115, 0.9999628 , 0.99996433, 0.9999658 ,\n",
       "       0.99996725, 0.99996867, 0.99997006, 0.99997144, 0.99997275,\n",
       "       0.99997405, 0.99997527, 0.99997643, 0.99997756, 0.99997867,\n",
       "       0.99997973, 0.99998078, 0.9999818 , 0.9999828 , 0.99998376,\n",
       "       0.99998472, 0.9999856 , 0.99998648, 0.99998731, 0.99998814,\n",
       "       0.99998894, 0.99998973, 0.99999051, 0.99999127, 0.999992  ,\n",
       "       0.9999927 , 0.99999337, 0.99999404, 0.99999463, 0.99999522,\n",
       "       0.99999577, 0.99999629, 0.99999677, 0.99999717, 0.99999756,\n",
       "       0.99999788, 0.99999819, 0.99999843, 0.99999868, 0.99999889,\n",
       "       0.99999909, 0.99999928, 0.9999994 , 0.99999951, 0.99999961,\n",
       "       0.99999966, 0.99999971, 0.99999974, 0.99999978, 0.99999981,\n",
       "       0.99999984, 0.99999986, 0.99999988, 0.9999999 , 0.99999991,\n",
       "       0.99999993, 0.99999994, 0.99999995, 0.99999996, 0.99999997,\n",
       "       0.99999998, 0.99999999, 1.        , 1.        , 1.        ,\n",
       "       1.        , 1.        , 1.        , 1.        , 1.        ,\n",
       "       1.        , 1.        , 1.        , 1.        , 1.        ,\n",
       "       1.        , 1.        , 1.        , 1.        , 1.        ,\n",
       "       1.        , 1.        , 1.        , 1.        , 1.        ,\n",
       "       1.        , 1.        , 1.        , 1.        , 1.        ,\n",
       "       1.        , 1.        , 1.        , 1.        , 1.        ,\n",
       "       1.        , 1.        , 1.        , 1.        , 1.        ,\n",
       "       1.        , 1.        , 1.        , 1.        , 1.        ,\n",
       "       1.        , 1.        , 1.        , 1.        , 1.        ,\n",
       "       1.        , 1.        , 1.        , 1.        , 1.        ,\n",
       "       1.        , 1.        , 1.        , 1.        , 1.        ,\n",
       "       1.        , 1.        , 1.        , 1.        , 1.        ,\n",
       "       1.        , 1.        , 1.        , 1.        , 1.        ,\n",
       "       1.        , 1.        , 1.        , 1.        , 1.        ,\n",
       "       1.        , 1.        , 1.        , 1.        , 1.        ,\n",
       "       1.        , 1.        , 1.        , 1.        , 1.        ,\n",
       "       1.        , 1.        , 1.        , 1.        , 1.        ,\n",
       "       1.        , 1.        , 1.        , 1.        , 1.        ,\n",
       "       1.        , 1.        , 1.        , 1.        , 1.        ,\n",
       "       1.        ])"
      ]
     },
     "execution_count": 44,
     "metadata": {},
     "output_type": "execute_result"
    }
   ],
   "source": [
    "# cumulative explained variance ratio\n",
    "# get number of features in PCA\n",
    "pca.explained_variance_ratio_.cumsum()"
   ]
  },
  {
   "cell_type": "markdown",
   "id": "competent-intermediate",
   "metadata": {},
   "source": [
    "**Discussion:**  \n",
    "95% of the variance can be captured with 75 features. "
   ]
  },
  {
   "cell_type": "code",
   "execution_count": 17,
   "id": "employed-charger",
   "metadata": {},
   "outputs": [],
   "source": [
    "# fit PCA to data\n",
    "pca = PCA(n_components = 285)\n",
    "X_train_pca = pca.fit_transform(X_train)\n",
    "X_test_pca = pca.transform(X_test)"
   ]
  },
  {
   "cell_type": "markdown",
   "id": "adverse-ordinary",
   "metadata": {},
   "source": [
    "# Model Parameter Tuning with Grid Search"
   ]
  },
  {
   "cell_type": "markdown",
   "id": "sonic-material",
   "metadata": {},
   "source": [
    "### KNN GridSearchCV"
   ]
  },
  {
   "cell_type": "code",
   "execution_count": null,
   "id": "tested-slave",
   "metadata": {},
   "outputs": [],
   "source": [
    "params = {'n_neighbors': [3, 5, 7, 9, 11],\n",
    "          'weights': ['uniform','distance'],\n",
    "          'leaf_size': [20,30,50],\n",
    "          'p': [1,2]}\n",
    "\n",
    "knn = KNeighborsClassifier()\n",
    "gs = GridSearchCV(knn, params, cv=5)\n",
    "gs.fit(X_train, y_train)"
   ]
  },
  {
   "cell_type": "code",
   "execution_count": null,
   "id": "solved-norman",
   "metadata": {},
   "outputs": [],
   "source": [
    "gs.best_params_"
   ]
  },
  {
   "cell_type": "code",
   "execution_count": null,
   "id": "young-japanese",
   "metadata": {},
   "outputs": [],
   "source": [
    "gs.best_score_"
   ]
  },
  {
   "cell_type": "markdown",
   "id": "similar-miniature",
   "metadata": {},
   "source": [
    "start 10:34\n",
    "end 11:03"
   ]
  },
  {
   "cell_type": "markdown",
   "id": "organizational-dakota",
   "metadata": {},
   "source": [
    "### Random Forests GridSearchCV"
   ]
  },
  {
   "cell_type": "code",
   "execution_count": null,
   "id": "progressive-volume",
   "metadata": {},
   "outputs": [],
   "source": [
    "rf_params = {'n_estimators':[100, 150],\n",
    "          'max_depth': [5, 10],\n",
    "          'min_samples_split':[4, 6],\n",
    "          'min_samples_leaf': [2, 3]}\n",
    "\n",
    "rf = RandomForestClassifier(random_state=3)\n",
    "rf_gs = GridSearchCV(rf,rf_params)\n",
    "rf_gs.fit(X_train, y_train)"
   ]
  },
  {
   "cell_type": "code",
   "execution_count": null,
   "id": "refined-authorization",
   "metadata": {},
   "outputs": [],
   "source": [
    "rf_gs.best_params_"
   ]
  },
  {
   "cell_type": "code",
   "execution_count": null,
   "id": "comparative-prior",
   "metadata": {},
   "outputs": [],
   "source": [
    "rf_gs.best_score_"
   ]
  },
  {
   "cell_type": "markdown",
   "id": "cathedral-vegetarian",
   "metadata": {},
   "source": [
    "start 11:10\n",
    "end 11:50"
   ]
  },
  {
   "cell_type": "markdown",
   "id": "associate-vintage",
   "metadata": {},
   "source": [
    "### Gradient Boost GridSearchCV"
   ]
  },
  {
   "cell_type": "code",
   "execution_count": null,
   "id": "seventh-seating",
   "metadata": {},
   "outputs": [],
   "source": [
    "gbc_params = {'n_estimators': [100, 200],\n",
    "          'learning_rate': [0.1, .3],\n",
    "          'max_depth': [3, 5]}\n",
    "\n",
    "gbc = GradientBoostingClassifier()\n",
    "gbc_gs = GridSearchCV(gbc, gbc_params)\n",
    "gbc_gs.fit(X_train, y_train)\n"
   ]
  },
  {
   "cell_type": "code",
   "execution_count": null,
   "id": "artificial-court",
   "metadata": {},
   "outputs": [],
   "source": [
    "gbc_gs.best_params_"
   ]
  },
  {
   "cell_type": "code",
   "execution_count": null,
   "id": "colored-inventory",
   "metadata": {},
   "outputs": [],
   "source": [
    "gbc_gs.best_score_"
   ]
  },
  {
   "cell_type": "markdown",
   "id": "artificial-selection",
   "metadata": {},
   "source": [
    "start 11:55\n",
    "end "
   ]
  },
  {
   "cell_type": "markdown",
   "id": "sudden-graham",
   "metadata": {},
   "source": [
    "### Xtreme Gradient Boost GridSearchCV"
   ]
  },
  {
   "cell_type": "code",
   "execution_count": null,
   "id": "psychological-owner",
   "metadata": {},
   "outputs": [],
   "source": [
    "xgb_params = {'n_estimators': [100, 200],\n",
    "          'learning_rate': [0.1, .3],\n",
    "          'max_depth': [3, 5],\n",
    "          'gamma': [.1, 1]}\n",
    "\n",
    "xgb = XGBClassifier()\n",
    "xgb_gs = GridSearchCV(xgb, xgb_params)\n",
    "xgb_gs.fit(X_train, y_train)\n"
   ]
  },
  {
   "cell_type": "code",
   "execution_count": null,
   "id": "smoking-moral",
   "metadata": {},
   "outputs": [],
   "source": [
    "xgb_gs.best_params_"
   ]
  },
  {
   "cell_type": "code",
   "execution_count": null,
   "id": "spectacular-antique",
   "metadata": {},
   "outputs": [],
   "source": [
    "xgb_gs.best_score_"
   ]
  },
  {
   "cell_type": "markdown",
   "id": "exact-private",
   "metadata": {},
   "source": [
    "## Run Models"
   ]
  },
  {
   "cell_type": "code",
   "execution_count": 18,
   "id": "sacred-remainder",
   "metadata": {},
   "outputs": [],
   "source": [
    "# create a dictionary of models\n",
    "# this allows for easy change of model hyperparameters\n",
    "# code inspired from \n",
    "# https://machinelearningmastery.com/evaluate-machine-learning-algorithms-for-human-activity-recognition/\n",
    "\n",
    "def define_models(models=dict()):\n",
    "    \n",
    "    # nonlinear model\n",
    "    models['knn'] = KNeighborsClassifier(n_neighbors=5, \n",
    "                                         p=1, \n",
    "                                         leaf_size=20, \n",
    "                                         weights='distance')\n",
    "    \n",
    "    # ensemble models\n",
    "    models['rf'] = RandomForestClassifier(n_estimators=100, random_state=3)\n",
    "    models['xgb'] = XGBClassifier(use_label_encoder=True, random_state=3)\n",
    "    models['gbc'] = GradientBoostingClassifier(n_estimators=100, random_state=3)\n",
    "    \n",
    "    return models"
   ]
  },
  {
   "cell_type": "code",
   "execution_count": 19,
   "id": "southwest-proposition",
   "metadata": {},
   "outputs": [],
   "source": [
    "# create function to evaluate models\n",
    "# code inspired from \n",
    "# https://machinelearningmastery.com/evaluate-machine-learning-algorithms-for-human-activity-recognition/\n",
    "\n",
    "def evaluate_model(model, X_train, X_test, y_train, y_test):\n",
    "    \n",
    "    # fit the model\n",
    "    model.fit(X_train, y_train)\n",
    "    \n",
    "    # get predictions\n",
    "    preds = model.predict(X_test)\n",
    "    \n",
    "    # evaluate model\n",
    "    accuracy = accuracy_score(y_test, preds)\n",
    "    \n",
    "    return accuracy"
   ]
  },
  {
   "cell_type": "code",
   "execution_count": 20,
   "id": "joint-excitement",
   "metadata": {},
   "outputs": [],
   "source": [
    "# create function to capture model results\n",
    "# code inspired from \n",
    "# https://machinelearningmastery.com/evaluate-machine-learning-algorithms-for-human-activity-recognition/\n",
    "\n",
    "def model_results(models, X_train, X_test, y_train, y_test):\n",
    "    \n",
    "    # dictionary to store results\n",
    "    results = dict()\n",
    "    \n",
    "    # for loop to iterate through dictionary\n",
    "    for name, model in models.items():\n",
    "        \n",
    "        # capture model results\n",
    "        results[name] = evaluate_model(model, X_train, X_test, y_train, y_test)\n",
    "        \n",
    "        # progress print statement\n",
    "        print(f'Model: {name}  Result: {results[name] * 100:.2f}%')\n",
    "        \n",
    "    return results"
   ]
  },
  {
   "cell_type": "code",
   "execution_count": 21,
   "id": "cordless-combat",
   "metadata": {},
   "outputs": [],
   "source": [
    "# create models dictionary\n",
    "models = define_models()"
   ]
  },
  {
   "cell_type": "code",
   "execution_count": 22,
   "id": "north-fleece",
   "metadata": {},
   "outputs": [
    {
     "name": "stdout",
     "output_type": "stream",
     "text": [
      "Model: knn  Result: 89.63%\n",
      "Model: rf  Result: 90.99%\n"
     ]
    },
    {
     "name": "stderr",
     "output_type": "stream",
     "text": [
      "D:\\Anaconda\\envs\\datsci\\lib\\site-packages\\xgboost\\sklearn.py:888: UserWarning: The use of label encoder in XGBClassifier is deprecated and will be removed in a future release. To remove this warning, do the following: 1) Pass option use_label_encoder=False when constructing XGBClassifier object; and 2) Encode your labels (y) as integers starting with 0, i.e. 0, 1, 2, ..., [num_class - 1].\n",
      "  warnings.warn(label_encoder_deprecation_msg, UserWarning)\n"
     ]
    },
    {
     "name": "stdout",
     "output_type": "stream",
     "text": [
      "[11:32:31] WARNING: ..\\src\\learner.cc:1061: Starting in XGBoost 1.3.0, the default evaluation metric used with the objective 'multi:softprob' was changed from 'merror' to 'mlogloss'. Explicitly set eval_metric if you'd like to restore the old behavior.\n",
      "Model: xgb  Result: 92.09%\n",
      "Model: gbc  Result: 88.99%\n"
     ]
    }
   ],
   "source": [
    "# evaluate models and get results\n",
    "results = model_results(models, X_train, X_test, y_train, y_test)"
   ]
  },
  {
   "cell_type": "code",
   "execution_count": 23,
   "id": "corresponding-violence",
   "metadata": {},
   "outputs": [
    {
     "data": {
      "text/html": [
       "<div>\n",
       "<style scoped>\n",
       "    .dataframe tbody tr th:only-of-type {\n",
       "        vertical-align: middle;\n",
       "    }\n",
       "\n",
       "    .dataframe tbody tr th {\n",
       "        vertical-align: top;\n",
       "    }\n",
       "\n",
       "    .dataframe thead th {\n",
       "        text-align: right;\n",
       "    }\n",
       "</style>\n",
       "<table border=\"1\" class=\"dataframe\">\n",
       "  <thead>\n",
       "    <tr style=\"text-align: right;\">\n",
       "      <th></th>\n",
       "      <th>knn</th>\n",
       "      <th>rf</th>\n",
       "      <th>xgb</th>\n",
       "      <th>gbc</th>\n",
       "    </tr>\n",
       "  </thead>\n",
       "  <tbody>\n",
       "    <tr>\n",
       "      <th>0</th>\n",
       "      <td>0.896268</td>\n",
       "      <td>0.909867</td>\n",
       "      <td>0.920936</td>\n",
       "      <td>0.889943</td>\n",
       "    </tr>\n",
       "  </tbody>\n",
       "</table>\n",
       "</div>"
      ],
      "text/plain": [
       "        knn        rf       xgb       gbc\n",
       "0  0.896268  0.909867  0.920936  0.889943"
      ]
     },
     "execution_count": 23,
     "metadata": {},
     "output_type": "execute_result"
    }
   ],
   "source": [
    "df = pd.DataFrame(results, index= [0])\n",
    "df"
   ]
  },
  {
   "cell_type": "code",
   "execution_count": 55,
   "id": "sufficient-compound",
   "metadata": {},
   "outputs": [
    {
     "data": {
      "text/html": [
       "<div>\n",
       "<style scoped>\n",
       "    .dataframe tbody tr th:only-of-type {\n",
       "        vertical-align: middle;\n",
       "    }\n",
       "\n",
       "    .dataframe tbody tr th {\n",
       "        vertical-align: top;\n",
       "    }\n",
       "\n",
       "    .dataframe thead th {\n",
       "        text-align: right;\n",
       "    }\n",
       "</style>\n",
       "<table border=\"1\" class=\"dataframe\">\n",
       "  <thead>\n",
       "    <tr style=\"text-align: right;\">\n",
       "      <th></th>\n",
       "      <th>Model</th>\n",
       "      <th>Accuracy Score</th>\n",
       "    </tr>\n",
       "  </thead>\n",
       "  <tbody>\n",
       "    <tr>\n",
       "      <th>0</th>\n",
       "      <td>xgb</td>\n",
       "      <td>0.920936</td>\n",
       "    </tr>\n",
       "    <tr>\n",
       "      <th>1</th>\n",
       "      <td>rf</td>\n",
       "      <td>0.909867</td>\n",
       "    </tr>\n",
       "    <tr>\n",
       "      <th>2</th>\n",
       "      <td>knn</td>\n",
       "      <td>0.896268</td>\n",
       "    </tr>\n",
       "    <tr>\n",
       "      <th>3</th>\n",
       "      <td>gbc</td>\n",
       "      <td>0.889943</td>\n",
       "    </tr>\n",
       "  </tbody>\n",
       "</table>\n",
       "</div>"
      ],
      "text/plain": [
       "  Model  Accuracy Score\n",
       "0   xgb        0.920936\n",
       "1    rf        0.909867\n",
       "2   knn        0.896268\n",
       "3   gbc        0.889943"
      ]
     },
     "execution_count": 55,
     "metadata": {},
     "output_type": "execute_result"
    }
   ],
   "source": [
    "df1 = pd.melt(df, var_name='Model', value_name='Accuracy Score')\n",
    "df1.sort_values(ascending=False, by='Accuracy Score').reset_index(drop=True)"
   ]
  },
  {
   "cell_type": "code",
   "execution_count": null,
   "id": "inner-links",
   "metadata": {},
   "outputs": [],
   "source": []
  }
 ],
 "metadata": {
  "kernelspec": {
   "display_name": "Python 3",
   "language": "python",
   "name": "python3"
  },
  "language_info": {
   "codemirror_mode": {
    "name": "ipython",
    "version": 3
   },
   "file_extension": ".py",
   "mimetype": "text/x-python",
   "name": "python",
   "nbconvert_exporter": "python",
   "pygments_lexer": "ipython3",
   "version": "3.8.5"
  }
 },
 "nbformat": 4,
 "nbformat_minor": 5
}
