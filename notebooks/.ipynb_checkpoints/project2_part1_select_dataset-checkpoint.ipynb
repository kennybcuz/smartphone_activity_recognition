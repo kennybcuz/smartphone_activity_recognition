{
 "cells": [
  {
   "cell_type": "markdown",
   "id": "invalid-worker",
   "metadata": {},
   "source": [
    "# Project 2 Part 1 - Select Dataset\n",
    "\n",
    "Think about what questions you could reasonably answer with the dataset you select. Select a dataset that has some type of machine learning component (supervised or unsupervised).\n",
    "\n",
    "__Some questions to consider:__\n",
    "\n",
    " * What kind of data science questions can you answer based on your data?\n",
    " * Is this a supervised or unsupervised task?\n",
    " * If this is supervised task, is this a regression or classification task?\n",
    " * How clean is your data?\n",
    " * What problems do you think can arise?\n",
    "\n",
    "__Some resources to help you find data:__\n",
    "\n",
    " * The 50 Best Free Datasets for Machine Learning\n",
    " * 21 Places to Find Free Datasets for Data Science Projects\n",
    " * Best Public Datasets for Machine Learning and Data Science\n",
    " * Top 20+ Datasets for Machine Learning and Statistics Projects\n",
    " * 70+ Machine Learning Datasets & Project Ideas\n",
    "\n",
    "The dataset you choose must be approved by the instructor. Submit the data you want to work with for this project."
   ]
  },
  {
   "cell_type": "markdown",
   "id": "trained-culture",
   "metadata": {},
   "source": [
    "__Dataset Webpage:__\n",
    "https://archive.ics.uci.edu/ml/datasets/Smartphone-Based+Recognition+of+Human+Activities+and+Postural+Transitions"
   ]
  },
  {
   "cell_type": "markdown",
   "id": "interested-plane",
   "metadata": {},
   "source": [
    "## Project Status\n",
    " * data downloaded and placed in Project2 folder\n",
    " * reveiwed readme.txt\n",
    " \n",
    "### Next Steps...\n",
    " * Data cleaning\n",
    " * Exploratory Data Analysis"
   ]
  },
  {
   "cell_type": "code",
   "execution_count": null,
   "id": "color-broadcasting",
   "metadata": {},
   "outputs": [],
   "source": []
  }
 ],
 "metadata": {
  "kernelspec": {
   "display_name": "Python 3",
   "language": "python",
   "name": "python3"
  },
  "language_info": {
   "codemirror_mode": {
    "name": "ipython",
    "version": 3
   },
   "file_extension": ".py",
   "mimetype": "text/x-python",
   "name": "python",
   "nbconvert_exporter": "python",
   "pygments_lexer": "ipython3",
   "version": "3.8.5"
  }
 },
 "nbformat": 4,
 "nbformat_minor": 5
}
